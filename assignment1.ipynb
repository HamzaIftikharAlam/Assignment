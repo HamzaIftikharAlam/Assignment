{
 "cells": [
  {
   "cell_type": "markdown",
   "id": "af3054a3-0391-49fd-b682-ee9329d2f7c1",
   "metadata": {},
   "source": [
    "# My Jupyter Notebook on IBM Watson Studio"
   ]
  },
  {
   "cell_type": "markdown",
   "id": "41768e0e-5b9f-4bb2-ab19-939250692df6",
   "metadata": {},
   "source": [
    "**Hamza Iftikhar**"
   ]
  },
  {
   "cell_type": "markdown",
   "id": "43d8faca-43cc-4a55-9a9f-c6cc87b9d8c7",
   "metadata": {},
   "source": [
    "Want to become a data scientist"
   ]
  },
  {
   "cell_type": "markdown",
   "id": "85fcbfaf-9ea1-4a86-83b0-803b6d662b99",
   "metadata": {},
   "source": [
    "*I want to become a data scientist because it is on of the most in-demand careers for the future*"
   ]
  },
  {
   "cell_type": "markdown",
   "id": "1e68de1f-3823-436b-a9a4-6386d98bf9b3",
   "metadata": {},
   "source": [
    "### The next cell will calculate the sum of numbers from 1 to 9"
   ]
  },
  {
   "cell_type": "code",
   "execution_count": 3,
   "id": "577ba39e-e71e-4ca0-bea1-196dbd4f4900",
   "metadata": {},
   "outputs": [
    {
     "data": {
      "text/plain": [
       "45"
      ]
     },
     "execution_count": 3,
     "metadata": {},
     "output_type": "execute_result"
    }
   ],
   "source": [
    "1+2+3+4+5+6+7+8+9"
   ]
  },
  {
   "cell_type": "markdown",
   "id": "a84fcfb5-f74c-4cc8-9865-8ec373a225bb",
   "metadata": {},
   "source": [
    "1.  One\n",
    "1.  Two\n",
    "1.  Three\n",
    "1.  Four\n",
    "1.  Five"
   ]
  },
  {
   "cell_type": "markdown",
   "id": "d683f25b-d7c6-4e74-b13c-8ee5944f1df8",
   "metadata": {},
   "source": [
    "|col1|col2|col3|\n",
    "|----|----|----|\n",
    "|c11|c12|c13|\n",
    "|c21|c22|c23|\n",
    "|c31|c32|c33|"
   ]
  },
  {
   "cell_type": "markdown",
   "id": "972742c0-bb77-4f05-84e0-60a9caef8706",
   "metadata": {},
   "source": [
    "[Coursera Home](https://www.coursera.org/)"
   ]
  },
  {
   "cell_type": "code",
   "execution_count": null,
   "id": "21b9d5ed-04db-4707-b77f-bf8c9a8fd07e",
   "metadata": {},
   "outputs": [],
   "source": []
  }
 ],
 "metadata": {
  "kernelspec": {
   "display_name": "Python",
   "language": "python",
   "name": "conda-env-python-py"
  },
  "language_info": {
   "codemirror_mode": {
    "name": "ipython",
    "version": 3
   },
   "file_extension": ".py",
   "mimetype": "text/x-python",
   "name": "python",
   "nbconvert_exporter": "python",
   "pygments_lexer": "ipython3",
   "version": "3.7.12"
  }
 },
 "nbformat": 4,
 "nbformat_minor": 5
}
